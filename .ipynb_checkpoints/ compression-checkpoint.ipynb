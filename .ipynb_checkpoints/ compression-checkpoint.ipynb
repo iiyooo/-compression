{
 "cells": [
  {
   "cell_type": "code",
   "execution_count": null,
   "id": "517551ea",
   "metadata": {},
   "outputs": [
    {
     "name": "stdout",
     "output_type": "stream",
     "text": [
      "Processing folder: C:\\Users\\user\\Desktop\\圧縮\\作業\\2R07ntm91F4\n"
     ]
    },
    {
     "name": "stderr",
     "output_type": "stream",
     "text": [
      "C:\\Users\\user\\AppData\\Local\\Temp\\ipykernel_12120\\336334116.py:41: FutureWarning: The behavior of DataFrame concatenation with empty or all-NA entries is deprecated. In a future version, this will no longer exclude empty or all-NA columns when determining the result dtypes. To retain the old behavior, exclude the relevant entries before the concat operation.\n",
      "  merged_df = pd.concat(dfs, axis=0)\n"
     ]
    },
    {
     "name": "stdout",
     "output_type": "stream",
     "text": [
      "Parquetファイルが C:\\Users\\user\\Desktop\\圧縮\\作業\\2R07ntm91F4\\merged_data.parquet に保存されました。\n",
      "Processing folder: C:\\Users\\user\\Desktop\\圧縮\\作業\\30uVJ7O-mCg\n"
     ]
    },
    {
     "name": "stderr",
     "output_type": "stream",
     "text": [
      "C:\\Users\\user\\AppData\\Local\\Temp\\ipykernel_12120\\336334116.py:41: FutureWarning: The behavior of DataFrame concatenation with empty or all-NA entries is deprecated. In a future version, this will no longer exclude empty or all-NA columns when determining the result dtypes. To retain the old behavior, exclude the relevant entries before the concat operation.\n",
      "  merged_df = pd.concat(dfs, axis=0)\n"
     ]
    },
    {
     "name": "stdout",
     "output_type": "stream",
     "text": [
      "Parquetファイルが C:\\Users\\user\\Desktop\\圧縮\\作業\\30uVJ7O-mCg\\merged_data.parquet に保存されました。\n",
      "Processing folder: C:\\Users\\user\\Desktop\\圧縮\\作業\\UCEXGDNclvmg6RW0vipJYsTQ\n"
     ]
    }
   ],
   "source": [
    "import pandas as pd\n",
    "import glob\n",
    "import os\n",
    "\n",
    "# pandasの表示オプションを設定\n",
    "pd.set_option('display.max_columns', 100)\n",
    "pd.set_option('display.max_rows', 500)\n",
    "\n",
    "# フォルダパスを設定\n",
    "base_folder_path = r'C:\\Users\\user\\Desktop\\圧縮\\作業'\n",
    "\n",
    "# 基本フォルダ内のすべてのサブディレクトリを取得\n",
    "def get_subfolders(base_folder_path):\n",
    "    subfolders = []\n",
    "    with os.scandir(base_folder_path) as entries:\n",
    "        for entry in entries:\n",
    "            if entry.is_dir():\n",
    "                subfolders.append(entry.path)\n",
    "    return subfolders\n",
    "\n",
    "# 基本フォルダ内のサブディレクトリを取得\n",
    "subfolders = get_subfolders(base_folder_path)\n",
    "\n",
    "# 各サブフォルダ内のParquetファイルを処理する関数\n",
    "def process_folder(folder_path):\n",
    "    # Parquetファイルのパスを取得\n",
    "    parquet_files = glob.glob(os.path.join(folder_path, \"*.parquet\"))\n",
    "\n",
    "    if not parquet_files:\n",
    "        print(f\"No Parquet files found in {folder_path}\")\n",
    "        return\n",
    "\n",
    "    # すべてのParquetファイルを読み込んで1つのDataFrameに結合する\n",
    "    dfs = []\n",
    "    for parquet_file in parquet_files:\n",
    "        df = pd.read_parquet(parquet_file)\n",
    "        dfs.append(df)\n",
    "\n",
    "    # すべてのデータを含むDataFrameを作成\n",
    "    if dfs:\n",
    "        merged_df = pd.concat(dfs, axis=0)\n",
    "\n",
    "        # 必要な列を選択\n",
    "        columns_to_select = [\"epoch\", \"channel_id\", \"channel\", \"id\", \"fulltitle\", \"age_limit\", \"duration\",\n",
    "                             \"view_count\", \"like_count\", \"comment_count\", \"original_url\", \"categories\",\n",
    "                             \"tags\", \"_version.release_git_head\"]\n",
    "        merged_df = merged_df[columns_to_select]\n",
    "\n",
    "        # マージされたDataFrameをParquetファイルとして保存する\n",
    "        output_path = os.path.join(folder_path, \"merged_data.parquet\")\n",
    "        merged_df.to_parquet(output_path)\n",
    "        print(f\"Parquetファイルが {output_path} に保存されました。\")\n",
    "\n",
    "# 各サブフォルダを処理\n",
    "for folder in subfolders:\n",
    "    print(f\"Processing folder: {folder}\")\n",
    "    process_folder(folder)"
   ]
  }
 ],
 "metadata": {
  "kernelspec": {
   "display_name": "Python 3 (ipykernel)",
   "language": "python",
   "name": "python3"
  },
  "language_info": {
   "codemirror_mode": {
    "name": "ipython",
    "version": 3
   },
   "file_extension": ".py",
   "mimetype": "text/x-python",
   "name": "python",
   "nbconvert_exporter": "python",
   "pygments_lexer": "ipython3",
   "version": "3.11.7"
  }
 },
 "nbformat": 4,
 "nbformat_minor": 5
}
